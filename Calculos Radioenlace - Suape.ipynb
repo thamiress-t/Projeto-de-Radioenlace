{
 "cells": [
  {
   "cell_type": "code",
   "execution_count": 96,
   "metadata": {},
   "outputs": [],
   "source": [
    "import numpy as np"
   ]
  },
  {
   "cell_type": "code",
   "execution_count": 34,
   "metadata": {},
   "outputs": [
    {
     "name": "stdout",
     "output_type": "stream",
     "text": [
      "179.9513960585621\n"
     ]
    }
   ],
   "source": [
    "\n",
    "#azimute entre ERB (b) e rtu4 (c)\n",
    "#ponto b tá mais ao norte que rtu4\n",
    "latb=-8.333381\n",
    "latc=-8.450356327\n",
    "lonb=-35.009989\n",
    "lonc=-34.98801824\n",
    "bc= 180 - ((180/np.pi)*np.arctan(np.sin((np.pi/180)*(lonc-lonb))/(np.cos((np.pi/180)*lonb)*np.tan((np.pi/180)*latc)- np.sin((np.pi/180)*lonb)*np.cos((np.pi/180)*(lonc-lonb)))))\n",
    "\n",
    "print(bc)"
   ]
  },
  {
   "cell_type": "code",
   "execution_count": 23,
   "metadata": {},
   "outputs": [
    {
     "name": "stdout",
     "output_type": "stream",
     "text": [
      "180.0631920280797\n"
     ]
    }
   ],
   "source": [
    "#azimute entre ERB (a) e rtu5 (b)\n",
    "#ERB tá mais ao norte  que rtu5\n",
    "latb=-8.333381\n",
    "latc=-8.37638\n",
    "lonb=-35.009989\n",
    "lonc=-35.0386224\n",
    "bc= 180 - ((180/np.pi)*np.arctan(np.sin((np.pi/180)*(lonc-lonb))/(np.cos((np.pi/180)*lonb)*np.tan((np.pi/180)*latc)- np.sin((np.pi/180)*lonb)*np.cos((np.pi/180)*(lonc-lonb)))))\n",
    "\n",
    "print(bc)"
   ]
  },
  {
   "cell_type": "code",
   "execution_count": 29,
   "metadata": {},
   "outputs": [
    {
     "name": "stdout",
     "output_type": "stream",
     "text": [
      "-0.055949158781417034\n"
     ]
    }
   ],
   "source": [
    "####### Calculo de azimutes##########\n",
    "\n",
    "#azimute entre ERB (a) e rtu1 (b)\n",
    "#Ponto b está mais ao norte que ponto a\n",
    "\n",
    "lata=-8.333381\n",
    "latb=-8.284280339\n",
    "lona=-35.009989\n",
    "lonb=-35.03541577\n",
    "ab= (180/np.pi)*np.arctan(np.sin((np.pi/180)*(lonb-lona))/(np.cos((np.pi/180)*lona)*np.tan((np.pi/180)*latb)- np.sin((np.pi/180)*lona)*np.cos((np.pi/180)*(lonb-lona))))\n",
    "\n",
    "print(ab)"
   ]
  },
  {
   "cell_type": "code",
   "execution_count": 31,
   "metadata": {},
   "outputs": [
    {
     "name": "stdout",
     "output_type": "stream",
     "text": [
      "2.1741387626804114\n"
     ]
    }
   ],
   "source": [
    "####### Calculo de azimutes##########\n",
    "\n",
    "#azimute entre ERB (a) e rtu2 (b)\n",
    "#Ponto b está mais ao norte que ponto a\n",
    "\n",
    "lata=-8.333381\n",
    "latb=-8.304015779\n",
    "lona=-35.009989\n",
    "lonb=-34.02221436\n",
    "ab= (180/np.pi)*np.arctan(np.sin((np.pi/180)*(lonb-lona))/(np.cos((np.pi/180)*lona)*np.tan((np.pi/180)*latb)- np.sin((np.pi/180)*lona)*np.cos((np.pi/180)*(lonb-lona))))\n",
    "\n",
    "print(ab)"
   ]
  },
  {
   "cell_type": "code",
   "execution_count": 32,
   "metadata": {},
   "outputs": [
    {
     "name": "stdout",
     "output_type": "stream",
     "text": [
      "-0.02901646615680983\n"
     ]
    }
   ],
   "source": [
    "####### Calculo de azimutes##########\n",
    "\n",
    "#azimute entre ERB (a) e rtu3 (b)\n",
    "#Ponto b está mais ao norte que ponto a\n",
    "\n",
    "lata=-8.333381\n",
    "latb=-8.289357898\n",
    "lona=-35.009989\n",
    "lonb=-35.02317373\n",
    "ab= (180/np.pi)*np.arctan(np.sin((np.pi/180)*(lonb-lona))/(np.cos((np.pi/180)*lona)*np.tan((np.pi/180)*latb)- np.sin((np.pi/180)*lona)*np.cos((np.pi/180)*(lonb-lona))))\n",
    "\n",
    "print(ab)"
   ]
  },
  {
   "cell_type": "code",
   "execution_count": 37,
   "metadata": {},
   "outputs": [
    {
     "name": "stdout",
     "output_type": "stream",
     "text": [
      "0.035129122626350796\n"
     ]
    }
   ],
   "source": [
    "####### Calculo de azimutes##########\n",
    "\n",
    "#azimute entre ERB (a) e rtu6 (b)\n",
    "#Ponto b está mais ao norte que ponto a\n",
    "\n",
    "lata=-8.333381\n",
    "latb=-8.323844171\n",
    "lona=-35.009989\n",
    "lonb=-34.99404444\n",
    "ab= (180/np.pi)*np.arctan(np.sin((np.pi/180)*(lonb-lona))/(np.cos((np.pi/180)*lona)*np.tan((np.pi/180)*latb)- np.sin((np.pi/180)*lona)*np.cos((np.pi/180)*(lonb-lona))))\n",
    "\n",
    "print(ab)"
   ]
  },
  {
   "cell_type": "code",
   "execution_count": 71,
   "metadata": {},
   "outputs": [
    {
     "name": "stdout",
     "output_type": "stream",
     "text": [
      "0.0014492743476345754\n"
     ]
    }
   ],
   "source": [
    "############################################# angulos de elevação entre RTUs ############################################\n",
    "\n",
    "#rt1\n",
    "hb=23\n",
    "ha=14\n",
    "d= 6210\n",
    "tetha= np.arctan((hb-ha)/d) \n",
    "print(tetha)"
   ]
  },
  {
   "cell_type": "code",
   "execution_count": 105,
   "metadata": {},
   "outputs": [
    {
     "name": "stdout",
     "output_type": "stream",
     "text": [
      "-0.010908658182663983\n"
     ]
    }
   ],
   "source": [
    "#rt2\n",
    "hb=23\n",
    "ha=11\n",
    "d=3570\n",
    "tetha= np.arctan((hb-ha)/d) \n",
    "print(tetha)\n",
    "\n",
    "\n"
   ]
  },
  {
   "cell_type": "code",
   "execution_count": 39,
   "metadata": {},
   "outputs": [
    {
     "name": "stdout",
     "output_type": "stream",
     "text": [
      "0.00233462610857506\n"
     ]
    }
   ],
   "source": [
    "#rt3\n",
    "hb=23\n",
    "ha=11\n",
    "d=5140\n",
    "tetha= np.arctan((hb-ha)/d) \n",
    "print(tetha)\n",
    "\n",
    "\n",
    "\n",
    "\n"
   ]
  },
  {
   "cell_type": "code",
   "execution_count": 41,
   "metadata": {},
   "outputs": [
    {
     "name": "stdout",
     "output_type": "stream",
     "text": [
      "0.0014285704567553203\n"
     ]
    }
   ],
   "source": [
    "#rt4\n",
    "hb=23\n",
    "ha=4\n",
    "d=13300\n",
    "tetha= np.arctan((hb-ha)/d) \n",
    "print(tetha)"
   ]
  },
  {
   "cell_type": "code",
   "execution_count": 43,
   "metadata": {},
   "outputs": [
    {
     "name": "stdout",
     "output_type": "stream",
     "text": [
      "0.0017361093668539702\n"
     ]
    }
   ],
   "source": [
    "#rt5\n",
    "hb=23\n",
    "ha= 13\n",
    "d= 5760\n",
    "tetha= np.arctan((hb-ha)/d) \n",
    "print(tetha)\n"
   ]
  },
  {
   "cell_type": "code",
   "execution_count": 44,
   "metadata": {},
   "outputs": [
    {
     "name": "stdout",
     "output_type": "stream",
     "text": [
      "0.006280110673330273\n"
     ]
    }
   ],
   "source": [
    "#rt6\n",
    "hb=23\n",
    "ha= 10\n",
    "d= 2070\n",
    "tetha= np.arctan((hb-ha)/d) \n",
    "print(tetha)"
   ]
  },
  {
   "cell_type": "code",
   "execution_count": 97,
   "metadata": {},
   "outputs": [],
   "source": [
    "################################################### raios de fresnel SUAPE #########################################3\n",
    "\n",
    "#rt1\n",
    "d= 6.21\n",
    "f= 0.459"
   ]
  },
  {
   "cell_type": "code",
   "execution_count": 98,
   "metadata": {},
   "outputs": [
    {
     "name": "stdout",
     "output_type": "stream",
     "text": [
      "0.007157052270281295\n",
      "h em metros: 0.0007157052270281296\n"
     ]
    }
   ],
   "source": [
    "rf1= (17.3*(np.sqrt(d)/(4*f)))*0.0003048 #convertendo de pés para quilometros\n",
    "print(rf1)\n",
    "print(\"h em metros:\",0.1*rf1) # a altura com o criterio de desobstrução de 10% para frequências abaixo de 1 Ghz"
   ]
  },
  {
   "cell_type": "code",
   "execution_count": 99,
   "metadata": {},
   "outputs": [
    {
     "name": "stdout",
     "output_type": "stream",
     "text": [
      "0.005426533607111149\n",
      "h em metros: 0.000542653360711115\n"
     ]
    }
   ],
   "source": [
    "#rt2\n",
    "d= 3.57\n",
    "f= 0.459\n",
    "rf1= 17.3*(np.sqrt(d)/(4*f))*0.0003048 #convertendo de pés para quilometros\n",
    "print(rf1)\n",
    "print(\"h em metros:\",0.1*rf1) # a altura com o criterio de desobstrução"
   ]
  },
  {
   "cell_type": "code",
   "execution_count": 79,
   "metadata": {},
   "outputs": [
    {
     "name": "stdout",
     "output_type": "stream",
     "text": [
      "0.0065188611830072265\n",
      "h em metros: 0.0006518861183007227\n"
     ]
    }
   ],
   "source": [
    "#rt3\n",
    "d= 5.14\n",
    "f= 0.459\n",
    "rf1= 17.32*(np.sqrt(d)/(4*f))*0.0003048 #convertendo de pés para quilometros\n",
    "print(rf1)\n",
    "print(\"h em metros:\",0.1*rf1) # a altura com o criterio de desobstrução"
   ]
  },
  {
   "cell_type": "code",
   "execution_count": 100,
   "metadata": {},
   "outputs": [
    {
     "name": "stdout",
     "output_type": "stream",
     "text": [
      "0.010486148265012459\n",
      "h em metros: 0.001048614826501246\n"
     ]
    }
   ],
   "source": [
    "#rt4\n",
    "d= 13.3\n",
    "f= 0.459\n",
    "rf1= 17.32*(np.sqrt(d)/(4*f))*0.0003048 #convertendo de pés para quilometros\n",
    "print(rf1)\n",
    "print(\"h em metros:\",0.1*rf1) # a altura com o criterio de desobstrução"
   ]
  },
  {
   "cell_type": "code",
   "execution_count": 101,
   "metadata": {},
   "outputs": [
    {
     "name": "stdout",
     "output_type": "stream",
     "text": [
      "0.006900831372549018\n",
      "h em metros: 0.0006900831372549019\n"
     ]
    }
   ],
   "source": [
    "#rt5\n",
    "d= 5.76\n",
    "f= 0.459\n",
    "rf1= 17.32*(np.sqrt(d)/(4*f))*0.0003048 #convertendo de pés para quilometros\n",
    "print(rf1)\n",
    "print(\"h em metros:\",0.1*rf1) # a altura com o criterio de desobstrução\n",
    "\n"
   ]
  },
  {
   "cell_type": "code",
   "execution_count": 94,
   "metadata": {},
   "outputs": [
    {
     "name": "stdout",
     "output_type": "stream",
     "text": [
      "0.004136903079191996\n",
      "h em metros: 0.0004136903079191996\n"
     ]
    }
   ],
   "source": [
    "#rt6\n",
    "d= 2.07\n",
    "f= 0.459\n",
    "rf1= 17.32*(np.sqrt(d)/(4*f))*0.0003048 #convertendo de pés para quilometros\n",
    "print(rf1)\n",
    "print(\"h em metros:\",0.1*rf1) # a altura com o criterio de desobstrução\n",
    "\n"
   ]
  },
  {
   "cell_type": "code",
   "execution_count": 73,
   "metadata": {},
   "outputs": [
    {
     "name": "stdout",
     "output_type": "stream",
     "text": [
      "s1:  19.53125\n",
      "s2:  26.7639902676399\n",
      "s3:  24.361118719343153\n",
      "N01:  20.275856842770338\n",
      "K01:  0.8856253908237859\n",
      "Hu em km:  0.44236056473842245\n",
      "visada em km:  0.5090762699654505\n"
     ]
    }
   ],
   "source": [
    "################################################Altura de compensação pela curvatura da terra  e altura de visada##############\n",
    "#Calculo do fator k pra 0.1% (SUAPE)\n",
    "\n",
    "#rt1\n",
    "N50= -55\n",
    "N10= -30\n",
    "d0=30\n",
    "d= 6.21\n",
    "N2=0\n",
    "\n",
    "s1= (N10-N50)/1.28\n",
    "print(\"s1: \",s1)\n",
    "\n",
    "s2=(N2-N50)/2.055  #pior caso\n",
    "print(\"s2: \",s2) \n",
    "\n",
    "s3=np.sqrt((s2**2)/(1+(d/d0)))\n",
    "print(\"s3: \",s3)\n",
    "\n",
    "N01= 3.09*s3 + N50\n",
    "print(\"N01: \",N01)\n",
    "\n",
    "K01=157/(157+N01)\n",
    "print(\"K01: \",K01)\n",
    "\n",
    "#Calculo da altura de compensação \n",
    "d1= 0.945\n",
    "d2=d-d1\n",
    "Hu= (d1*d2)/(12.7*K01)\n",
    "print(\"Hu em km: \",Hu)\n",
    "\n",
    "#Calculo da altura da linha de visada\n",
    "hev= Hu+ 0.066 + (0.1*rf1)  #maior obstaculo tem 66 metros de altura\n",
    "print(\"visada em km: \",hev)\n"
   ]
  },
  {
   "cell_type": "code",
   "execution_count": 75,
   "metadata": {},
   "outputs": [
    {
     "name": "stdout",
     "output_type": "stream",
     "text": [
      "s1:  19.53125\n",
      "s2:  26.7639902676399\n",
      "s3:  25.30089125591137\n",
      "N01:  23.179753980766137\n",
      "K01:  0.8713520611020452\n",
      "Hu em km:  0.2270147425018391\n",
      "visada em km:  0.27555739586255024\n"
     ]
    }
   ],
   "source": [
    "#Calculo do fator k pra 0.1% (SUAPE)\n",
    "\n",
    "#rt2\n",
    "\n",
    "N50= -55\n",
    "N10= -30\n",
    "d0=30\n",
    "d= 3.57\n",
    "N2=0\n",
    "\n",
    "s1= (N10-N50)/1.28\n",
    "print(\"s1: \",s1)\n",
    "\n",
    "s2=(N2-N50)/2.055  #pior caso\n",
    "print(\"s2: \",s2) \n",
    "\n",
    "s3=np.sqrt((s2**2)/(1+(d/d0)))\n",
    "print(\"s3: \",s3)\n",
    "\n",
    "N01= 3.09*s3 + N50\n",
    "print(\"N01: \",N01)\n",
    "\n",
    "K01=157/(157+N01)\n",
    "print(\"K01: \",K01)\n",
    "\n",
    "#Calculo da altura de compensação \n",
    "d1= 0.964\n",
    "d2=d-d1\n",
    "Hu= (d1*d2)/(12.7*K01)\n",
    "print(\"Hu em km: \",Hu)\n",
    "\n",
    "#Calculo da altura da linha de visada\n",
    "hev= Hu+ 0.048 + (0.1*rf1)\n",
    "print(\"visada em km: \",hev)\n"
   ]
  },
  {
   "cell_type": "code",
   "execution_count": 81,
   "metadata": {},
   "outputs": [
    {
     "name": "stdout",
     "output_type": "stream",
     "text": [
      "s1:  19.53125\n",
      "s2:  26.7639902676399\n",
      "s3:  24.729231037614493\n",
      "N01:  21.413323906228783\n",
      "K01:  0.8799791213043971\n",
      "Hu em km:  0.5619317288385158\n",
      "visada em km:  0.6075836149568166\n"
     ]
    }
   ],
   "source": [
    "#Calculo do fator k pra 0.1% (UFPE)\n",
    "#rt3\n",
    "N50= -55\n",
    "N10= -30\n",
    "d0= 30\n",
    "d= 5.14\n",
    "N2=0\n",
    "\n",
    "s1= (N10-N50)/1.28\n",
    "print(\"s1: \",s1)\n",
    "\n",
    "s2=(N2-N50)/2.055  #pior caso\n",
    "print(\"s2: \",s2) \n",
    "\n",
    "s3=np.sqrt((s2**2)/(1+(d/d0)))\n",
    "print(\"s3: \",s3)\n",
    "\n",
    "N01= 3.09*s3 + N50\n",
    "print(\"N01: \",N01)\n",
    "\n",
    "K01=157/(157+N01)\n",
    "print(\"K01: \",K01)\n",
    "\n",
    "#Calculo da altura de compensação \n",
    "d1=2\n",
    "d2=d-d1\n",
    "Hu= (d1*d2)/(12.7*K01)\n",
    "print(\"Hu em km: \",Hu)\n",
    "\n",
    "#Calculo da altura da linha de visada\n",
    "hev= Hu+ 0.045 + (0.1*rf1)\n",
    "print(\"visada em km: \",hev)"
   ]
  },
  {
   "cell_type": "code",
   "execution_count": 87,
   "metadata": {},
   "outputs": [
    {
     "name": "stdout",
     "output_type": "stream",
     "text": [
      "s1:  19.53125\n",
      "s2:  26.7639902676399\n",
      "s3:  22.2775559189653\n",
      "N01:  13.837647789602784\n",
      "K01:  0.9190011805439705\n",
      "Hu em km:  1.9363713526480886\n",
      "visada em km:  1.9714199674745898\n"
     ]
    }
   ],
   "source": [
    "#Calculo do fator k pra 0.1% (UFPE)\n",
    "#rt4\n",
    "N50= -55\n",
    "N10= -30\n",
    "d0= 30\n",
    "d= 13.3\n",
    "N2=0\n",
    "\n",
    "s1= (N10-N50)/1.28\n",
    "print(\"s1: \",s1)\n",
    "\n",
    "s2=(N2-N50)/2.055  #pior caso\n",
    "print(\"s2: \",s2) \n",
    "\n",
    "s3=np.sqrt((s2**2)/(1+(d/d0)))\n",
    "print(\"s3: \",s3)\n",
    "\n",
    "N01= 3.09*s3 + N50\n",
    "print(\"N01: \",N01)\n",
    "\n",
    "K01=157/(157+N01)\n",
    "print(\"K01: \",K01)\n",
    "\n",
    "#Calculo da altura de compensação \n",
    "d1= 11.3\n",
    "d2=d-d1\n",
    "Hu= (d1*d2)/(12.7*K01)\n",
    "print(\"Hu em km: \",Hu)\n",
    "\n",
    "#Calculo da altura da linha de visada\n",
    "hev= Hu+ 0.034 + (0.1*rf1)\n",
    "print(\"visada em km: \",hev)\n",
    "\n",
    "\n"
   ]
  },
  {
   "cell_type": "code",
   "execution_count": 91,
   "metadata": {},
   "outputs": [
    {
     "name": "stdout",
     "output_type": "stream",
     "text": [
      "s1:  19.53125\n",
      "s2:  26.7639902676399\n",
      "s3:  24.513918369587678\n",
      "N01:  20.74800776202592\n",
      "K01:  0.8832729096474379\n",
      "Hu em km:  0.7350970821032478\n",
      "visada em km:  0.7847871652405027\n"
     ]
    }
   ],
   "source": [
    "#Calculo do fator k pra 0.1% (UFPE)\n",
    "#rt5\n",
    "N50= -55\n",
    "N10= -30\n",
    "d0= 30\n",
    "d= 5.76\n",
    "N2=0\n",
    "\n",
    "s1= (N10-N50)/1.28\n",
    "print(\"s1: \",s1)\n",
    "\n",
    "s2=(N2-N50)/2.055  #pior caso\n",
    "print(\"s2: \",s2) \n",
    "\n",
    "s3=np.sqrt((s2**2)/(1+(d/d0)))\n",
    "print(\"s3: \",s3)\n",
    "\n",
    "N01= 3.09*s3 + N50\n",
    "print(\"N01: \",N01)\n",
    "\n",
    "K01=157/(157+N01)\n",
    "print(\"K01: \",K01)\n",
    "\n",
    "#Calculo da altura de compensação \n",
    "d1= 2.66\n",
    "d2=d-d1\n",
    "Hu= (d1*d2)/(12.7*K01)\n",
    "print(\"Hu em km: \",Hu)\n",
    "\n",
    "#Calculo da altura da linha de visada\n",
    "hev= Hu+ 0.049 + (0.1*rf1)\n",
    "print(\"visada em km: \",hev)"
   ]
  },
  {
   "cell_type": "code",
   "execution_count": 95,
   "metadata": {},
   "outputs": [
    {
     "name": "stdout",
     "output_type": "stream",
     "text": [
      "s1:  19.53125\n",
      "s2:  26.7639902676399\n",
      "s3:  25.885824991624826\n",
      "N01:  24.987199224120715\n",
      "K01:  0.8626980395838253\n",
      "Hu em km:  0.03042496661726531\n",
      "visada em km:  0.0798386569251845\n"
     ]
    }
   ],
   "source": [
    "#Calculo do fator k pra 0.1% (UFPE)\n",
    "#rt6\n",
    "N50= -55\n",
    "N10= -30\n",
    "d0= 30\n",
    "d= 2.07\n",
    "N2=0\n",
    "\n",
    "s1= (N10-N50)/1.28\n",
    "print(\"s1: \",s1)\n",
    "\n",
    "s2=(N2-N50)/2.055  #pior caso\n",
    "print(\"s2: \",s2) \n",
    "\n",
    "s3=np.sqrt((s2**2)/(1+(d/d0)))\n",
    "print(\"s3: \",s3)\n",
    "\n",
    "N01= 3.09*s3 + N50\n",
    "print(\"N01: \",N01)\n",
    "\n",
    "K01=157/(157+N01)\n",
    "print(\"K01: \",K01)\n",
    "\n",
    "#Calculo da altura de compensação \n",
    "d1=0.176\n",
    "d2=d-d1\n",
    "Hu= (d1*d2)/(12.7*K01)\n",
    "print(\"Hu em km: \",Hu)\n",
    "\n",
    "#Calculo da altura da linha de visada\n",
    "hev= Hu+ 0.049 + (0.1*rf1)\n",
    "print(\"visada em km: \",hev)"
   ]
  },
  {
   "cell_type": "code",
   "execution_count": 105,
   "metadata": {},
   "outputs": [
    {
     "data": {
      "text/plain": [
       "101.53808571427683"
      ]
     },
     "execution_count": 105,
     "metadata": {},
     "output_type": "execute_result"
    }
   ],
   "source": [
    "#Perda de caminho livre\n",
    "#rt1\n",
    "d= 6.21\n",
    "f= 0.459\n",
    "FSPL = 92.44 + 20*np.log(d*f)/np.log(10)\n",
    "FSPL"
   ]
  },
  {
   "cell_type": "code",
   "execution_count": 106,
   "metadata": {},
   "outputs": [
    {
     "data": {
      "text/plain": [
       "96.72961803298908"
      ]
     },
     "execution_count": 106,
     "metadata": {},
     "output_type": "execute_result"
    }
   ],
   "source": [
    "#Perda de caminho livre\n",
    "#rt2\n",
    "d= 3.57\n",
    "f= 0.459\n",
    "FSPL = 92.44 + 20*np.log(d*f)/np.log(10)\n",
    "FSPL"
   ]
  },
  {
   "cell_type": "code",
   "execution_count": 107,
   "metadata": {},
   "outputs": [
    {
     "data": {
      "text/plain": [
       "99.89551609065073"
      ]
     },
     "execution_count": 107,
     "metadata": {},
     "output_type": "execute_result"
    }
   ],
   "source": [
    "#Perda de caminho livre\n",
    "#rt3\n",
    "d= 5.14\n",
    "f= 0.459\n",
    "FSPL = 92.44 + 20*np.log(d*f)/np.log(10)\n",
    "FSPL"
   ]
  },
  {
   "cell_type": "code",
   "execution_count": 108,
   "metadata": {},
   "outputs": [
    {
     "data": {
      "text/plain": [
       "108.15328653008694"
      ]
     },
     "execution_count": 108,
     "metadata": {},
     "output_type": "execute_result"
    }
   ],
   "source": [
    "#Perda de caminho livre\n",
    "#rt4\n",
    "d= 13.3\n",
    "f= 0.459\n",
    "FSPL = 92.44 + 20*np.log(d*f)/np.log(10)\n",
    "FSPL"
   ]
  },
  {
   "cell_type": "code",
   "execution_count": 111,
   "metadata": {},
   "outputs": [
    {
     "data": {
      "text/plain": [
       "100.88470337920947"
      ]
     },
     "execution_count": 111,
     "metadata": {},
     "output_type": "execute_result"
    }
   ],
   "source": [
    "#Perda de caminho livre\n",
    "#rt2\n",
    "d= 5.76\n",
    "f= 0.459\n",
    "FSPL = 92.44 + 20*np.log(d*f)/np.log(10)\n",
    "FSPL"
   ]
  },
  {
   "cell_type": "code",
   "execution_count": 112,
   "metadata": {},
   "outputs": [
    {
     "data": {
      "text/plain": [
       "91.99566061988358"
      ]
     },
     "execution_count": 112,
     "metadata": {},
     "output_type": "execute_result"
    }
   ],
   "source": [
    "#Perda de caminho livre\n",
    "#rt2\n",
    "d= 2.07\n",
    "f= 0.459\n",
    "FSPL = 92.44 + 20*np.log(d*f)/np.log(10)\n",
    "FSPL"
   ]
  },
  {
   "cell_type": "code",
   "execution_count": null,
   "metadata": {},
   "outputs": [],
   "source": []
  }
 ],
 "metadata": {
  "kernelspec": {
   "display_name": "Python 3",
   "language": "python",
   "name": "python3"
  },
  "language_info": {
   "codemirror_mode": {
    "name": "ipython",
    "version": 3
   },
   "file_extension": ".py",
   "mimetype": "text/x-python",
   "name": "python",
   "nbconvert_exporter": "python",
   "pygments_lexer": "ipython3",
   "version": "3.7.3"
  }
 },
 "nbformat": 4,
 "nbformat_minor": 2
}
